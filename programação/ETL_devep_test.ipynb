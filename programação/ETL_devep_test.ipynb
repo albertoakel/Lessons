{
 "cells": [
  {
   "cell_type": "code",
   "execution_count": 3,
   "id": "873d58c2-667d-4d4d-aacc-7405bb7f6409",
   "metadata": {},
   "outputs": [],
   "source": [
    "# import bibliotecas\n",
    "import requests\n",
    "import json\n",
    "import pandas as pd"
   ]
  },
  {
   "cell_type": "code",
   "execution_count": 50,
   "id": "5c5ccefc-0493-4261-940b-ce59f7b326aa",
   "metadata": {},
   "outputs": [],
   "source": [
    "# funções\n",
    "# ETL - Extract, Transform, load\n",
    "\n",
    "# EXTRACT\n",
    "def extract_data(endpoints):\n",
    "    response=requests.get(endpoints)\n",
    "    if response.status_code==200:  # status_code 200 é ok.\n",
    "        return response.json()\n",
    "    else:\n",
    "        print(f\"Erro ao extrair dados da API: {response.status_code}\")\n",
    "        return none\n",
    "\n",
    "def load_data(data,path):\n",
    "    id=data[\"id\"]\n",
    "    with open(f\"{path}/{id}.json\",\"w\") as file:\n",
    "        json.dump(data,file)\n",
    "\n",
    "\n",
    "def loop_load_data(endpoint,path,n):\n",
    "  #Extract and load data\n",
    "    for i in range(1,n+1):\n",
    "        data_e=extract_data(endpoint+str(i))\n",
    "        if data_e:\n",
    "            if 'user' in endpoint:\n",
    "                load_data(data_e,path+'raw/users_json')\n",
    "            elif 'products' in endpoint:\n",
    "                load_data(data_e,path+'raw/products_json')\n",
    "            else:\n",
    "                print(f\"[AVISO] Endpoint não reconhecido: {endpoint}\")\n",
    "                break\n",
    "\n",
    "        else:\n",
    "            print(f\"erro ao extrair dados da API:{data_e}\")\n",
    "            break\n",
    "\n",
    "def transform_data_json_csv(endpoint,path,n):\n",
    "    \n",
    "    for i in range(1,n+1):\n",
    "        if 'user' in endpoint:\n",
    "            with open(path+'raw/users_json/'+str(i)+'.json','r') as file:\n",
    "                data=json.load(file)\n",
    "                # convertendo para csv\n",
    "                df=pd.DataFrame(data)\n",
    "                df.to_csv(path+'processed/users/'+str(i)+'.csv', index=False)\n",
    "        elif 'products' in endpoint:\n",
    "            with open(path+'raw/products_json/'+str(i)+'.json','r') as file:\n",
    "                data=json.load(file)\n",
    "                data = {k: v for k, v in data.items() if k not in ['tags', 'reviews','images']}  #Remover chaves problematicas.\n",
    "                df=pd.DataFrame(data)\n",
    "                df.to_csv(path+'processed/products/'+str(i)+'.csv', index=False)   \n",
    "        else:\n",
    "            print( \"erro com endpoint\")\n",
    "            break\n"
   ]
  },
  {
   "cell_type": "code",
   "execution_count": 5,
   "id": "2d7c2bf5-9ffe-44c8-97d0-342d278da084",
   "metadata": {},
   "outputs": [],
   "source": [
    "#variaveis input\n",
    "path='/home/akel/PycharmProjects/Lessons/programação/data/'\n",
    "endpoints_user=\"https://dummyjson.com/users/\"\n",
    "endpoints_product=\"https://dummyjson.com/products/\""
   ]
  },
  {
   "cell_type": "code",
   "execution_count": 10,
   "id": "44f0f963-b369-49c7-8389-2d81d7f59b3d",
   "metadata": {},
   "outputs": [],
   "source": [
    "# extract em save data raw\n",
    "loop_load_data(endpoints_user,path,100)\n",
    "loop_load_data(endpoints_product,path,100)\n"
   ]
  },
  {
   "cell_type": "code",
   "execution_count": 53,
   "id": "c5ddacd2-4e4f-421e-bdb6-608fc8f60c8e",
   "metadata": {},
   "outputs": [
    {
     "name": "stdout",
     "output_type": "stream",
     "text": [
      "Tempo de execução: 0.02479196599961142 segundos\n"
     ]
    }
   ],
   "source": [
    " # Transform to CSV and save em data process\n",
    "import time\n",
    "inicio = time.perf_counter()\n",
    "\n",
    "transform_data_json_csv(endpoints_user,path,1)\n",
    "transform_data_json_csv(endpoints_product,path,8)\n",
    "fim = time.perf_counter()\n",
    "print(f\"Tempo de execução: {fim - inicio} segundos\")"
   ]
  },
  {
   "cell_type": "code",
   "execution_count": null,
   "id": "0e3eba03-b8d7-4f98-bc37-36dcb00170c7",
   "metadata": {},
   "outputs": [],
   "source": []
  }
 ],
 "metadata": {
  "kernelspec": {
   "display_name": "Python 3 (ipykernel)",
   "language": "python",
   "name": "python3"
  },
  "language_info": {
   "codemirror_mode": {
    "name": "ipython",
    "version": 3
   },
   "file_extension": ".py",
   "mimetype": "text/x-python",
   "name": "python",
   "nbconvert_exporter": "python",
   "pygments_lexer": "ipython3",
   "version": "3.9.5"
  }
 },
 "nbformat": 4,
 "nbformat_minor": 5
}
