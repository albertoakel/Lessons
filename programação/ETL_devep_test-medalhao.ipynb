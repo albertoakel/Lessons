{
 "cells": [
  {
   "cell_type": "code",
   "execution_count": 4,
   "id": "873d58c2-667d-4d4d-aacc-7405bb7f6409",
   "metadata": {},
   "outputs": [],
   "source": [
    "# import bibliotecas\n",
    "import requests\n",
    "import json\n",
    "import pandas as pd\n",
    "from faker import Faker\n"
   ]
  },
  {
   "cell_type": "code",
   "execution_count": 7,
   "id": "65d73acb-fc2c-461d-a047-f0fd44335cbc",
   "metadata": {},
   "outputs": [
    {
     "name": "stdout",
     "output_type": "stream",
     "text": [
      "{'nome': 'Heitor da Mota', 'cidade': 'Vasconcelos do Galho', 'estado': ('PI', 'Piauí'), 'rua': 'Colônia de Cavalcanti\\nVila Independencia 1ª Seção\\n54738-736 da Costa de Oliveira / AL', 'cep': '95616867'}\n"
     ]
    }
   ],
   "source": [
    "fake = Faker('pt_BR')\n",
    "\n",
    "# fake.name()\n",
    "# fake.city()\n",
    "# fake.estado()\n",
    "# fake.street_suffix\n",
    "\n",
    "\n",
    "U={'nome':fake.name(),\n",
    "   'cidade':fake.city(),\n",
    "   'estado': fake.estado(),\n",
    "   'rua':fake.address(),\n",
    "   'cep':fake.postcode()}\n",
    "print(U)"
   ]
  },
  {
   "cell_type": "code",
   "execution_count": null,
   "id": "4e54493f-ca7f-4810-91c8-6e9802bafb43",
   "metadata": {},
   "outputs": [],
   "source": []
  },
  {
   "cell_type": "code",
   "execution_count": null,
   "id": "2f5761ea-8b95-4b11-9417-8f41f9e56fe2",
   "metadata": {},
   "outputs": [],
   "source": []
  },
  {
   "cell_type": "code",
   "execution_count": null,
   "id": "0151f7c0-37db-4234-b7ee-508599a488a6",
   "metadata": {},
   "outputs": [],
   "source": []
  }
 ],
 "metadata": {
  "kernelspec": {
   "display_name": "Python 3 (ipykernel)",
   "language": "python",
   "name": "python3"
  },
  "language_info": {
   "codemirror_mode": {
    "name": "ipython",
    "version": 3
   },
   "file_extension": ".py",
   "mimetype": "text/x-python",
   "name": "python",
   "nbconvert_exporter": "python",
   "pygments_lexer": "ipython3",
   "version": "3.9.5"
  }
 },
 "nbformat": 4,
 "nbformat_minor": 5
}
