{
 "cells": [
  {
   "cell_type": "code",
   "execution_count": 8,
   "id": "ba885ad9-4734-4698-b961-1be0cb1bf2c5",
   "metadata": {},
   "outputs": [
    {
     "name": "stdout",
     "output_type": "stream",
     "text": [
      "DataFrame antes da correção:\n",
      "  sebatian  12  Rio de Janeiro\n",
      "0    jorge  50       São Paulo\n",
      "1      bia  10  Rio de Janeiro\n",
      "2    Carla  32  Belo Horizonte\n",
      "\n",
      "------------------------------\n",
      "\n",
      "DataFrame após a correção:\n",
      "       Nome Idade          Cidade\n",
      "0  sebatian    12  Rio de Janeiro\n",
      "1     jorge    50       São Paulo\n",
      "2       bia    10  Rio de Janeiro\n",
      "3     Carla    32  Belo Horizonte\n"
     ]
    }
   ],
   "source": [
    "import pandas as pd\n",
    "\n",
    "# Suponha que este é o seu DataFrame `df_frame` já carregado,\n",
    "# com o cabeçalho incorreto.\n",
    "df_frame = pd.DataFrame({\n",
    "    'sebatian': ['jorge', 'bia', 'Carla'],\n",
    "    '12': [50, 10, 32],\n",
    "    'Rio de Janeiro': ['São Paulo', 'Rio de Janeiro', 'Belo Horizonte']\n",
    "})\n",
    "\n",
    "print(\"DataFrame antes da correção:\")\n",
    "print(df_frame)\n",
    "print(\"\\n------------------------------\\n\")\n",
    "\n",
    "\n",
    "# Passo 1: Obtenha os valores que estão no cabeçalho errado\n",
    "# O atributo .columns retorna os valores do cabeçalho\n",
    "valores_primeira_linha = df_frame.columns.tolist()\n",
    "\n",
    "# Passo 2: Defina os nomes de colunas corretos\n",
    "# Baseado na sua estrutura, vamos assumir que os nomes corretos são 'Nome', 'Idade', 'Cidade'\n",
    "df_frame.columns = ['Nome', 'Idade', 'Cidade']\n",
    "\n",
    "# Passo 3: Adicione a linha de dados perdida de volta no início do DataFrame\n",
    "# Uma forma de fazer isso é criando um novo DataFrame com a linha e concatenando\n",
    "nova_linha = pd.DataFrame([valores_primeira_linha], columns=df_frame.columns)\n",
    "df_frame = pd.concat([nova_linha, df_frame], ignore_index=True)\n",
    "\n",
    "print(\"DataFrame após a correção:\")\n",
    "print(df_frame)"
   ]
  },
  {
   "cell_type": "code",
   "execution_count": 4,
   "id": "3a07bf39-34bd-4691-abf3-9f2386b26d2b",
   "metadata": {},
   "outputs": [
    {
     "data": {
      "text/plain": [
       "0      Nome\n",
       "1     Idade\n",
       "2    Cidade\n",
       "Name: 0, dtype: object"
      ]
     },
     "execution_count": 4,
     "metadata": {},
     "output_type": "execute_result"
    }
   ],
   "source": [
    "df.iloc[0]"
   ]
  },
  {
   "cell_type": "code",
   "execution_count": 17,
   "id": "fdf5882c-93f5-456f-85e9-14fe81b99b45",
   "metadata": {},
   "outputs": [],
   "source": [
    "a=2\n",
    "if not isinstance(a, (int,float)):\n",
    "    print( 'não é numero')"
   ]
  },
  {
   "cell_type": "code",
   "execution_count": null,
   "id": "78b81423-86b0-4835-ace5-958308bfddc1",
   "metadata": {},
   "outputs": [],
   "source": []
  }
 ],
 "metadata": {
  "kernelspec": {
   "display_name": "Python 3 (ipykernel)",
   "language": "python",
   "name": "python3"
  },
  "language_info": {
   "codemirror_mode": {
    "name": "ipython",
    "version": 3
   },
   "file_extension": ".py",
   "mimetype": "text/x-python",
   "name": "python",
   "nbconvert_exporter": "python",
   "pygments_lexer": "ipython3",
   "version": "3.9.5"
  }
 },
 "nbformat": 4,
 "nbformat_minor": 5
}
