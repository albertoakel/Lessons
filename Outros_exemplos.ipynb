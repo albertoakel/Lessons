{
 "cells": [
  {
   "cell_type": "markdown",
   "id": "6e71b5eb-748f-438f-998e-dfae274085c1",
   "metadata": {},
   "source": [
    "## Teste estatisticos - Duas amostras independentes"
   ]
  },
  {
   "cell_type": "markdown",
   "id": "f1d6510e-1494-4bfe-90fb-56a10f842c96",
   "metadata": {},
   "source": [
    "#### Exemplo 1: Duas amostras\n",
    "O teste t de Student para duas amostras independentes é usado para comparar as médias de dois grupos e determinar se elas são estatisticamente diferentes."
   ]
  },
  {
   "cell_type": "code",
   "execution_count": 4,
   "id": "20743cfc-4969-45fb-989e-8465afb07e72",
   "metadata": {},
   "outputs": [
    {
     "name": "stdout",
     "output_type": "stream",
     "text": [
      "0.8863870041691415 0.8774863178481231\n",
      "Não rejeitamos a hipótese nula (não há diferença significativa entre as média)\n"
     ]
    },
    {
     "data": {
      "text/plain": [
       "12"
      ]
     },
     "execution_count": 4,
     "metadata": {},
     "output_type": "execute_result"
    }
   ],
   "source": [
    "import numpy as np\n",
    "from scipy.stats import t as ts\n",
    "from scipy.stats import ttest_ind\n",
    "\n",
    "\n",
    "def std_comb(s1, s2):\n",
    "    '''desvio padrao combinado'''\n",
    "    \n",
    "    n1 = len(s1)\n",
    "    n2 = len(s2)\n",
    "    var1 = np.var(s1, ddof=1)  # Variância amostral (ddof=1)\n",
    "    var2 = np.var(s2, ddof=1)\n",
    "    Sp = np.sqrt(((n1 - 1) * var1 + (n2 - 1) * var2) / (n1 + n2 - 2))\n",
    "    return Sp\n",
    "\n",
    "\n",
    "# H0 : As médias das duas amostras são iguais? ( mu1=mu2)\n",
    "# passo-a-passo\n",
    "amostra1 = [22, 25, 30, 35, 40, 45, 50]\n",
    "amostra2 = [18, 20, 25, 30, 35, 40, 45]\n",
    "\n",
    "# 1-calculo da média\n",
    "media1, media2 = np.mean(amostra1), np.mean(amostra2)\n",
    "\n",
    "# 2-graus de liberdade\n",
    "df= len(amostra1)+len(amostra2)-2\n",
    "\n",
    "# 3-teste t para duas amostras\n",
    "sp=std_comb(amostra1, amostra1) #desvio padrao combinado ( função definida acima)\n",
    "t=(media1-media2)/(sp*np.sqrt(1/len(amostra1)+1/len(amostra2)))\n",
    "\n",
    "# 4- pvalor\n",
    "t_stat, p_value = ttest_ind(amostra1, amostra2)\n",
    "\n",
    "print(t_stat,t)\n",
    "\n",
    "pvalor=2*(1-ts.cdf(t,df))\n",
    "\n",
    "\n",
    "#ou forma simplificada\n",
    "estatistica_t, valor_p = ttest_ind(amostra1, amostra2,equal_var=False)\n",
    "# Interpretação\n",
    "#print(X1,X2)\n",
    "\n",
    "alpha = 0.05\n",
    "if valor_p < alpha:\n",
    "    print(\"Rejeitamos a hipótese nula (há diferença significativa entre as médias).\")\n",
    "else:\n",
    "    print('Não rejeitamos a hipótese nula (não há diferença significativa entre as média)')\n",
    "\n",
    "df"
   ]
  },
  {
   "cell_type": "code",
   "execution_count": null,
   "id": "b820073c-c81f-4980-bb9a-e7ba91214558",
   "metadata": {},
   "outputs": [],
   "source": []
  }
 ],
 "metadata": {
  "kernelspec": {
   "display_name": "Python 3 (ipykernel)",
   "language": "python",
   "name": "python3"
  },
  "language_info": {
   "codemirror_mode": {
    "name": "ipython",
    "version": 3
   },
   "file_extension": ".py",
   "mimetype": "text/x-python",
   "name": "python",
   "nbconvert_exporter": "python",
   "pygments_lexer": "ipython3",
   "version": "3.9.21"
  }
 },
 "nbformat": 4,
 "nbformat_minor": 5
}
