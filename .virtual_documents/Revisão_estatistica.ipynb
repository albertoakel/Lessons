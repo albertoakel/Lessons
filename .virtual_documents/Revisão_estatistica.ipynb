





import numpy as np
import math as ma
import matplotlib.pyplot as plt
import seaborn as sns
import pandas as pd
from scipy import stats
from scipy import integrate
from IPython.display import display, Math

x = np.linspace(-4, 4, 1000)
mu=0
sig=1
k=1/(sig*np.sqrt(2*ma.pi))
y=k*np.exp(-0.5*((x-mu)/sig)**2)
plt.plot(x,y,label='gaussina')
y=[0,0]
x1=[mu+sig,mu-sig]
x2=[mu+2*sig,mu-2*sig]
x3=[mu+3*sig,mu-3*sig]

x05=[0 +0.5]
plt.scatter(x1,y,color='red')
plt.scatter(x2,y,color='purple')
plt.scatter(x3,y,color='green')


xo1=np.linspace(x1[0],4,1000)
k=1/(sig*np.sqrt(2*ma.pi))
y1=k*np.exp(-0.5*((xo1-mu)/sig)**2)

xo2=np.linspace(x2[0],4,1000)
k=1/(sig*np.sqrt(2*ma.pi))
y2=k*np.exp(-0.5*((xo2-mu)/sig)**2)

xo3=np.linspace(x3[0],4,1000)
k=1/(sig*np.sqrt(2*ma.pi))
y3=k*np.exp(-0.5*((xo3-mu)/sig)**2)

plt.fill_between(xo1,y1+0.003,alpha=1,color='red',label='$\\mu+ 1\\sigma$')
plt.fill_between(xo2,y2+0.002,alpha=1,color='purple',label='$\\mu+ 2\\sigma$')
plt.fill_between(xo3,y3+0.001,alpha=1,color='green',label='$\\mu+ 3\\sigma$')

plt.grid(True)
plt.legend()





p1=integrate.simpson(y1,x=xo1);
p2=integrate.simpson(y2,x=xo2);
p3=integrate.simpson(y3,x=xo3);
#multiplicar o valor por 2
print(f"P1(mu+-1sig) = {2*p1:.3f}")
print(f"P2(mu+-2sig) = {2*p2 * 2:.3f}")
print(f"P3(mu+-3sig) = {2*p3 * 2:.3f}")

####

x = np.linspace(-10, 10, 1000)
mu=0
sig=1
k=1/(sig*np.sqrt(2*ma.pi))
y=k*np.exp(-0.5*((x-mu)/sig)**2)
plt.plot(x,y)


sig=1

mu=0
xo=np.linspace(-10,-0.5,1000000)
k=1/(sig*np.sqrt(2*ma.pi))
y5=k*np.exp(-0.5*((xo-mu)/sig)**2)
p5=integrate.simpson(y5,x=xo);
print(f"P5 = {p5:.3f}")
#plt.plot(xo,y5)
plt.fill_between(xo,y5,alpha=0.2)



from scipy.stats import norm

media_amostra = 12.6
mu0 = 12
sigma = 2
n = 10
# Estatística Z
z = (media_amostra - mu0) / (sigma / (n**0.5))

# Valor-p (bicaudal)
p_value = 2 * (1 - norm.cdf(abs(z)))

print(f"Estatística Z: {z:.2f}")
print(f"Valor-p: {p_value:.4f}")


data = np.random.normal(2,3, size=1000)
plt.hist(data, bins=50)
plt.show()


mu=0
sig=2
population = np.random.normal(0, sig, size=10000);
sample = np.random.choice(population, size=100, replace=False)

print(f"Média (População): {np.mean(population):.3f}, \
Desvio Padrão (População): {np.std(population):.3f}, \
Mediana (População): {np.median(population):.3f}")

print(f"Média (Amostraa): {np.mean(sample):.3f},\
 Desvio Padrão (Amostra): {np.std(sample):.3f}, \
 Mediana (Amostra): {np.median(sample):.3f}")
#plt.plot(population)
plt.subplot(2,1,1)
plt.plot(population)
plt.subplot(2,1,2)

yo, xo, _ =plt.hist(population, bins=50);
#y= plt.hist(population)
x = np.linspace(-10, 10, 10000)

k=1/(sig*np.sqrt(2*ma.pi))
A=max(yo)
y=k*np.exp(-0.5*((x-mu)/sig)**2)
ynorm=y/max(y)*A


plt.plot(x,ynorm);






# Valor de referência
valor_referencia = 7.0
notas = [6.5, 7.2, 6.8, 7.5, 6.9, 7.1, 6.7, 7.4, 6.6, 7.3]
# Realizar o teste t para uma amostra
resultado = stats.ttest_1samp(notas, valor_referencia)

# Exibir o resultado
print("Estatística t:", resultado.statistic)
print("Valor-p:", resultado.pvalue)
resultado


import numpy as np
from scipy.stats import norm
import matplotlib.pyplot as plt

x = np.linspace(-3,3,100000)
y=norm.pdf(x,0,1)
print(np.std(y))
#plt.plot(x,y,'r-');

c=np.cumsum(y)
c=c/max(c)
id=np.where(x>=0.95)
p=id[0][0]
#print('cumsum   0.95:',c[p])
#print('norm.cdf 0.95:',norm.cdf(0.95))

plt.plot(x,norm.cdf(x))

plt.plot(x,c,'--r')
plt.grid()


x = np.linspace(-3, 3, 1000)
mu=0
sig=1
k=1/(sig*np.sqrt(2*ma.pi))
Y=k*np.exp(-0.5*((x-mu)/sig)**2)
C=np.cumsum(Y)
C=C/max(C)
plt.plot(x,C,'+g',alpha=0.1)

id=np.where(x>=0.95)
P=id[0][0]
print('cumsum   0.95:',c[p])
print('norm.cdf 0.95:',norm.cdf(0.95))
print('CUMSUM   0.95:',C[P])




import numpy as np

# Função PDF da distribuição normal padrão
def pdf_normal(z):
    return (1 / np.sqrt(2 * np.pi)) * np.exp(-z**2 / 2)

# Função para calcular a integral usando a regra de Simpson
def simpson(f, a, b, n):
    if n % 2 != 0:
        raise ValueError("O número de subintervalos (n) deve ser par.")

    h = (b - a) / n
    x = np.linspace(a, b, n+1)
    y = f(x)

    integral = (h / 3) * (y[0] + 4 * np.sum(y[1:-1:2]) + 2 * np.sum(y[2:-2:2]) + y[-1])
    return integral

# Função para calcular a CDF da distribuição normal padrão
def cdf_normal(z, n=1000):
    if z < 0:
        return 0.5 - simpson(pdf_normal, z, 0, n)
    else:
        return 0.5 + simpson(pdf_normal, 0, z, n)

# Exemplo de uso
z = 1-0.95  # Valor de Z para calcular a CDF
cdf_z = cdf_normal(z)
print(f"P(Z <= {z}) = {cdf_z:.4f}")


import numpy as np
import matplotlib.pyplot as plt
from scipy.stats import gaussian_kde, norm

l = {31.2: 1, 35.1: 4, 39.0: 13, 42.9: 33, 46.8: 115, 50.7: 271, 54.6: 363, 58.5: 381, 62.4: 379, 66.3: 370, 70.2: 256, 74.1: 47, 78.0: 2}
# convert the dictionary to a list
l_array = np.array( [k for k, v in l.items() for _ in range(v)])


s = sum(l.values())
bin_width = 3.9
bin_centers = list(l.keys())
heights = [v/s/bin_width for v in l.values()]
plt.bar(bin_centers, heights, width=bin_width*0.9, color='dodgerblue', label='histogram')
for c, h, v in zip(bin_centers, heights, l.values()):
    plt.text(c, h, v, ha='center', va='bottom')
plt.xticks(bin_centers)
mean = l_array.mean()
sdev = l_array.std()
for i in range(-3, 4):
    plt.axvline(mean+i*sdev, color='limegreen', ls='--', lw=2, label='mean + i*sdev' if i == 0 else None)

x = np.linspace(mean-4*sdev, mean+4*sdev, 500)
plt.plot(x, norm.pdf(x, mean, sdev), color='orange', lw=3, label='gaussian normal')
plt.autoscale(enable=True, axis='x', tight=True)
plt.legend()
plt.show()


#exemplo2
import numpy as np
from scipy.stats import norm
import matplotlib.pyplot as plt 

mu=32 #média
var=0.81
sig=np.sqrt(var)
xo=34 #dado observado
probabilidade = round(norm.cdf(xo, mu, sig),4)

x=np.linspace(mu-4*sig,mu+4*sig,1000)

fig, ax = plt.subplots(1, figsize=(6, 6))

ax.plot(x, y, label=f"Distribuicao Normal")
ax.axvline(mu,0,2*max(y),color='gray', linestyle='--', label=f"Média = {mu:.2f}")

condicao=(x<=xo)
ax.fill_between(x,y,where=condicao,color='dodgerblue', alpha=0.5,label=f"P<{xo:.2f}")
ax.scatter(x=xo,y=0,color='orange',label="Observação: {:.1f}".format(xo))

ax.set_xlim([mu-4*sig,mu+4*sig])
ax.set_ylim([0,0.5])

ax.text(29, 0.4, 'Probabilidade :'+str(probabilidade), fontsize=10)  # Texto simples
ax.annotate(str(xo)+' anos', xy=(xo, 0.01), xytext=(xo-1, 0.1),arrowprops=dict(facecolor="black", shrink=0.05)) 

ax.set_xlabel('Idade')
ax.legend()
plt.show()



