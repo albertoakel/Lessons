





import numpy as np
from scipy.stats import t as ts
from scipy.stats import ttest_ind


def std_comb(s1, s2):
    '''desvio padrao combinado'''
    
    n1 = len(s1)
    n2 = len(s2)
    var1 = np.var(s1, ddof=1)  # Variância amostral (ddof=1)
    var2 = np.var(s2, ddof=1)
    Sp = np.sqrt(((n1 - 1) * var1 + (n2 - 1) * var2) / (n1 + n2 - 2))
    return Sp


# H0 : As médias das duas amostras são iguais? ( mu1=mu2)
# passo-a-passo
amostra1 = [22, 25, 30, 35, 40, 45, 50]
amostra2 = [18, 20, 25, 30, 35, 40, 45]

# 1-calculo da média
media1, media2 = np.mean(amostra1), np.mean(amostra2)

# 2-graus de liberdade
df= len(amostra1)+len(amostra2)-2

# 3-teste t para duas amostras
sp=std_comb(amostra1, amostra1) #desvio padrao combinado ( função definida acima)
t=(media1-media2)/(sp*np.sqrt(1/len(amostra1)+1/len(amostra2)))

# 4- pvalor
t_stat, p_value = ttest_ind(amostra1, amostra2)

print(t_stat,t)

pvalor=2*(1-ts.cdf(t,df))


#ou forma simplificada
estatistica_t, valor_p = ttest_ind(amostra1, amostra2,equal_var=False)
# Interpretação
print(X1,X2)

alpha = 0.05
if valor_p < alpha:
    print("Rejeitamos a hipótese nula (há diferença significativa entre as médias).")
else:
    print('Não rejeitamos a hipótese nula (não há diferença significativa entre as média)')

df
