{
  "cells": [
    {
      "cell_type": "markdown",
      "metadata": {
        "id": "view-in-github",
        "colab_type": "text"
      },
      "source": [
        "<a href=\"https://colab.research.google.com/github/albertoakel/Atividades_EBAC/blob/master/notebook/Revis%C3%A3o_python.ipynb\" target=\"_parent\"><img src=\"https://colab.research.google.com/assets/colab-badge.svg\" alt=\"Open In Colab\"/></a>"
      ]
    },
    {
      "cell_type": "markdown",
      "metadata": {
        "id": "QbAw2t2I9v21"
      },
      "source": [
        "# Revisão Python\n",
        "Neste notebook, será listado um conjunto de comandos, códigos e observações com o fim de revisar e tomar notas\n",
        "\n",
        "\n"
      ]
    },
    {
      "cell_type": "markdown",
      "source": [
        "## Tipos de Variáveis\n",
        "**8 tipos**\n",
        "*   Númerica(*int,float, complex*)\n",
        "*   Textuais (*string*)\n",
        "*   Sequencias (*list,*tupla, *range)\n",
        "*   Dicionários (*dict*)\n",
        "*   Lógicas( *booleanas*)\n",
        "*   Vazias (*nonetype*)\n",
        "*   Conjuntos (*set, frozenset*)\n",
        "*   binarias  (*bytes, bytearray, memoryview*)\n"
      ],
      "metadata": {
        "id": "guHoDBJfmkK_"
      }
    },
    {
      "cell_type": "code",
      "source": [
        "a=2        # inteiro\n",
        "b=2.34     # float\n",
        "c=12+2j    #complexa\n",
        "d='caco'   # string\n",
        "e=True    #lógico\n",
        "f={a:12,b:13,c:'androide'} #dicionário\n",
        "g=[1,2,3,'asa']\n",
        "h={'a','b',2}\n",
        "i=None    #NoneType\n",
        "\n",
        "print('a é tipo:',type(a).__name__)\n",
        "print('b é tipo:',type(b).__name__)\n",
        "print('c é tipo:',type(c).__name__)\n",
        "print('d é tipo:',type(d).__name__)\n",
        "print('e é tipo:',type(e).__name__)\n",
        "print('f é tipo:',type(f).__name__)\n",
        "print('g é tipo:',type(g).__name__)\n",
        "print('g é tipo:',type(h).__name__)\n",
        "print('i é tipo:',type(i).__name__)"
      ],
      "metadata": {
        "colab": {
          "base_uri": "https://localhost:8080/"
        },
        "id": "8wgQCd67motR",
        "outputId": "c7ab4ce8-aab3-4628-dacc-3fe33e77fb8e"
      },
      "execution_count": null,
      "outputs": [
        {
          "output_type": "stream",
          "name": "stdout",
          "text": [
            "a é tipo: int\n",
            "b é tipo: float\n",
            "c é tipo: complex\n",
            "d é tipo: str\n",
            "e é tipo: bool\n",
            "f é tipo: dict\n",
            "g é tipo: list\n",
            "g é tipo: set\n",
            "i é tipo: NoneType\n"
          ]
        }
      ]
    },
    {
      "cell_type": "markdown",
      "source": [
        "#### Operação com Strings\n",
        "\n",
        "seja o seguinte string a:\n",
        "```\n",
        "a='Flor silvestre que perfuma os campos'\n",
        "```\n",
        "algumas operações\n",
        "```\n",
        "a[0:4] retorna Flor\n",
        "a.replace('silvestre','Urbana') retorna Flor Urbana que perfuma os campos\n",
        "a.find(que) retorna 12 (posicao)\n",
        "\n",
        "```"
      ],
      "metadata": {
        "id": "0fKz1apC_V7x"
      }
    },
    {
      "cell_type": "markdown",
      "source": [
        "\n",
        "### Conversões e operações numericas\n",
        "Divisão inteira(//)\n",
        "Potencia(**)\n",
        "resto da divisão(%)\n"
      ],
      "metadata": {
        "id": "MjiO5nWat8ZV"
      }
    },
    {
      "cell_type": "code",
      "source": [
        "print(int(3.14))\n",
        "print(float(3))\n",
        "print(complex(3))"
      ],
      "metadata": {
        "colab": {
          "base_uri": "https://localhost:8080/"
        },
        "id": "phAWBOtGw9YT",
        "outputId": "d97bdbc3-bfca-4788-bff0-5f3649083fd1"
      },
      "execution_count": null,
      "outputs": [
        {
          "output_type": "stream",
          "name": "stdout",
          "text": [
            "3\n",
            "3.0\n",
            "(3+0j)\n"
          ]
        }
      ]
    },
    {
      "cell_type": "markdown",
      "source": [
        "## Variáveis Boleanas\n",
        "\n",
        "Armazena valor lógico. Basicamente dois tipos: **True e False** e são o resultado de operações lógicas. Quando comparamos variaveis o resultado indica se a condição é verdadeira ou falsa."
      ],
      "metadata": {
        "id": "QMEL0H8rmOE7"
      }
    },
    {
      "cell_type": "code",
      "source": [
        "saldo_banco=400\n",
        "saque=200\n",
        "liberar=saque<=saldo_banco\n",
        "print(liberar)"
      ],
      "metadata": {
        "colab": {
          "base_uri": "https://localhost:8080/"
        },
        "id": "E7PMNMOa3aFK",
        "outputId": "1a219f91-a3a8-4941-a76c-6fe55ea85978"
      },
      "execution_count": 1,
      "outputs": [
        {
          "output_type": "stream",
          "name": "stdout",
          "text": [
            "True\n"
          ]
        }
      ]
    },
    {
      "cell_type": "markdown",
      "source": [
        "### Conversão\n",
        "sejam as seguintes variáveis:\n",
        "```\n",
        "A=1,B='casa',C=0,D='',E='None'\n",
        "```\n",
        "ao converte para booleanas, atribui a inexistencia como falso. assim:\n",
        "\n",
        "\n",
        "```\n",
        "bool(A) retorna a True\n",
        "bool(B) retorna a True\n",
        "bool(C) retorna a False\n",
        "bool(D) retorna a False\n",
        "bool(E) retorna a False\n",
        "```\n",
        "\n"
      ],
      "metadata": {
        "id": "fRrRLSGu9fmh"
      }
    },
    {
      "cell_type": "markdown",
      "source": [],
      "metadata": {
        "id": "htLY_K5f-Rq9"
      }
    },
    {
      "cell_type": "markdown",
      "source": [
        "## Operadores Lógicos\n",
        "\n",
        "```\n",
        "(4  >  2) retorna True\n",
        "(4  <  2) retorna False\n",
        "(4  == 2) retorna False\n",
        "(4  != 2) retorna True\n",
        "\n",
        "```\n",
        "\n",
        "```\n",
        "# Isto está formatado como código\n",
        "```\n",
        "\n",
        "\n",
        "\n"
      ],
      "metadata": {
        "id": "qzzV4Yzpceb_"
      }
    },
    {
      "cell_type": "markdown",
      "metadata": {
        "id": "7BMBUY23D2se"
      },
      "source": [
        "### Tabela Verdade\n",
        "\n",
        "| A     | B     | A & B   | A or B   |  not A |\n",
        "|-------|-------|---------|--------|---------|\n",
        "| True  | True  |  True   |  True  |  False  |\n",
        "| True  | False |  False  |  True  |  True   |\n",
        "| False | True  |  False  |  True  |  True   |\n",
        "| False | False |  False  |  False |  False  |\n",
        "\n"
      ]
    },
    {
      "cell_type": "code",
      "execution_count": null,
      "metadata": {
        "colab": {
          "base_uri": "https://localhost:8080/"
        },
        "id": "mpOSwGqtR96u",
        "outputId": "7ea13a0c-f455-4231-fbe4-192430866d5c"
      },
      "outputs": [
        {
          "name": "stdout",
          "output_type": "stream",
          "text": [
            "1) 10>5 and 10>-1 logo: True\n",
            "2) 10>5 and 10>12 logo: False\n",
            "3) 10>5 or  10>-1 logo: True\n",
            "4) 10>5 or  10>12 logo: True\n",
            "5) not 10>2 logo: False\n",
            "6) not 10<2 logo: True\n",
            "7) 10>5 and not 10>12 logo: True\n"
          ]
        }
      ],
      "source": [
        "print('1) 10>5 and 10>-1 logo:', 10>5 and 10>-1)\n",
        "print('2) 10>5 and 10>12 logo:', 10>5 and 10>12)\n",
        "print('3) 10>5 or  10>-1 logo:', 10>5 or 10>12)\n",
        "print('4) 10>5 or  10>12 logo:', 10>5 or 10>12)\n",
        "print('5) not 10>2 logo:',not 10>2 )\n",
        "print('6) not 10<2 logo:',not 10<2)\n",
        "print('7) 10>5 and not 10>12 logo:',10>5 and not 10>12)"
      ]
    },
    {
      "cell_type": "markdown",
      "metadata": {
        "id": "a58DHpwEuEy1"
      },
      "source": [
        "### Condicional if,else,elfi\n"
      ]
    },
    {
      "cell_type": "code",
      "execution_count": null,
      "metadata": {
        "colab": {
          "base_uri": "https://localhost:8080/"
        },
        "id": "4ENvEcibuK-0",
        "outputId": "4e7d687e-c03b-444f-c789-4e91a3b184d5"
      },
      "outputs": [
        {
          "name": "stdout",
          "output_type": "stream",
          "text": [
            "a é maior que b\n"
          ]
        }
      ],
      "source": [
        "a=3\n",
        "b=2\n",
        "c=3\n",
        "if a>b:\n",
        "  print('a é maior que b')\n",
        "elif a<b:\n",
        "  print('b é maior que a')\n",
        "else:\n",
        "  print('a é igual a b')"
      ]
    },
    {
      "cell_type": "markdown",
      "metadata": {
        "id": "QgUrj5stu6Mv"
      },
      "source": [
        "### Condicional + operador lógico"
      ]
    },
    {
      "cell_type": "code",
      "execution_count": null,
      "metadata": {
        "colab": {
          "base_uri": "https://localhost:8080/"
        },
        "id": "rmib5eW8vAnj",
        "outputId": "df11adc4-8d0a-42c1-fbb9-7645e6813038"
      },
      "outputs": [
        {
          "name": "stdout",
          "output_type": "stream",
          "text": [
            "a é maior numero\n"
          ]
        }
      ],
      "source": [
        "a=10\n",
        "b=3\n",
        "c=5\n",
        "if a>b and a>c :\n",
        "  print('a é maior numero')\n",
        "elif a<b and a<c:\n",
        "  print('a é o menor número')\n",
        "elif a>b and a<c:\n",
        "  print('a está entre b e c')\n",
        "elif a<b and a>c:\n",
        "  print('a está entre b e c')\n",
        "else:\n",
        "  print('a é igual a b ou c')"
      ]
    },
    {
      "cell_type": "markdown",
      "source": [
        "## listas & Tuplas - (Variaveis Sequenciais)\n",
        "listas e tuplas\n",
        "\n",
        "listas=[valeu]\n",
        "tuplas =(value)"
      ],
      "metadata": {
        "id": "m_Av3XQR-0s0"
      }
    },
    {
      "cell_type": "markdown",
      "source": [
        "## Dicionários\n",
        "\n",
        "dic={key:value}\n"
      ],
      "metadata": {
        "id": "Hr9olkerAkem"
      }
    },
    {
      "cell_type": "markdown",
      "source": [
        "## Dataframe"
      ],
      "metadata": {
        "id": "UjcBvacUZuDM"
      }
    },
    {
      "cell_type": "code",
      "source": [
        "import numpy as np\n",
        "import pandas as pd\n",
        "\n",
        "estados = ['Acre',\n",
        "           'Amapá',\n",
        "           'Amazonas',\n",
        "           'Pará',\n",
        "           'Rondônia',\n",
        "           'Roraima',\n",
        "           'Tocantins']\n",
        "#                 lista              index name\n",
        "df = pd.DataFrame(estados, columns=['estados'])\n",
        "\n",
        "capitais = [['Acre', 'AC', '803,5 mil', 'Rio Branco'],\n",
        "            ['Amapá', 'AP', '776,6 mil', 'Macapá'],\n",
        "            ['Amazonas', 'AM', '3,9 milhões', 'Manaus'],\n",
        "            ['Pará', 'PA', '8,1 milhões', 'Belém'],\n",
        "            ['Rondônia', 'RO', '1,7 milhão', 'Porto Velho'],\n",
        "            ['Roraima', 'RR', '505,6 mil', 'Boa Vista'],\n",
        "            ['Tocantins', 'TO', '1,5 milhão', 'Palmas']]\n",
        "#                       lista           index names\n",
        "df2 = pd.DataFrame(capitais, columns=['Estado', 'Sigla', 'População', 'Capital'])\n",
        "\n",
        "\n",
        "#com dicionario\n",
        "capitais = {'Estado': {0: 'Acre',\n",
        "                       1: 'Amapá',\n",
        "                       2: 'Amazonas',\n",
        "                       3: 'Pará',\n",
        "                       4: 'Rondônia',\n",
        "                       5: 'Roraima',\n",
        "                       6: 'Tocantins'},\n",
        "            'Sigla': {0: 'AC',\n",
        "                      1: 'AP',\n",
        "                      2: 'AM',\n",
        "                      3: 'PA',\n",
        "                      4: 'RO',\n",
        "                      5: 'RR',\n",
        "                      6: 'TO'},\n",
        "            'População': {0: '803,5 mil',\n",
        "                          1: '776,6 mil',\n",
        "                          2: '3,9 milhões',\n",
        "                          3: '8,1 milhões',\n",
        "                          4: '1,7 milhão',\n",
        "                          5: '505,6 mil',\n",
        "                          6: '1,5 milhão'},\n",
        "            'Capital': {0: 'Rio Branco',\n",
        "                        1: 'Macapá',\n",
        "                        2: 'Manaus',\n",
        "                        3: 'Belém',\n",
        "                        4: 'Porto Velho',\n",
        "                        5: 'Boa Vista',\n",
        "                        6: 'Palmas'}}\n",
        "\n",
        "df3 = pd.DataFrame(capitais)\n",
        "\n",
        "A=df2.shape\n",
        "print(A[0])\n",
        "\n",
        "x = np.linspace(-3, 3, 4)\n",
        "y1 = x ** 2-5*x+4\n",
        "y2 = x ** 3\n",
        "y3=x-2*x\n",
        "\n",
        "\n",
        "dataset1 = pd.DataFrame({'seg': x, 'ter': y1, 'quarta':y2})\n",
        "dataset2=pd.DataFrame({'quintw': y3})\n",
        "for i in range(5):\n",
        "  dataset2=pd.DataFrame({'quinta'+str(i): y3+1})\n",
        "  dataset1=pd.concat([dataset1,dataset2],axis=1)\n",
        "\n",
        "#dataset=dataset1.append(dataset2)\n",
        "print(dataset1)\n",
        "#print(dataset1.columns[1])\n",
        "#print(dataset1.loc[0:3,dataset1.columns[0]])\n",
        "\n",
        "df=dataset1.drop([-1,0])\n",
        "#print(dataset1.drop([3]))\n",
        "\n",
        "print(df)\n"
      ],
      "metadata": {
        "colab": {
          "base_uri": "https://localhost:8080/",
          "height": 460
        },
        "id": "8HbZTBiCZ2Os",
        "outputId": "1a18d5ac-6ccb-4268-a7df-000f33dec71b"
      },
      "execution_count": null,
      "outputs": [
        {
          "output_type": "stream",
          "name": "stdout",
          "text": [
            "7\n",
            "   seg   ter  quarta  quinta0  quinta1  quinta2  quinta3  quinta4\n",
            "0 -3.0  28.0   -27.0      4.0      4.0      4.0      4.0      4.0\n",
            "1 -1.0  10.0    -1.0      2.0      2.0      2.0      2.0      2.0\n",
            "2  1.0   0.0     1.0      0.0      0.0      0.0      0.0      0.0\n",
            "3  3.0  -2.0    27.0     -2.0     -2.0     -2.0     -2.0     -2.0\n"
          ]
        },
        {
          "output_type": "error",
          "ename": "KeyError",
          "evalue": "'[-1] not found in axis'",
          "traceback": [
            "\u001b[0;31m---------------------------------------------------------------------------\u001b[0m",
            "\u001b[0;31mKeyError\u001b[0m                                  Traceback (most recent call last)",
            "\u001b[0;32m<ipython-input-16-63990cdc81a7>\u001b[0m in \u001b[0;36m<cell line: 0>\u001b[0;34m()\u001b[0m\n\u001b[1;32m     75\u001b[0m \u001b[0;31m#print(dataset1.loc[0:3,dataset1.columns[0]])\u001b[0m\u001b[0;34m\u001b[0m\u001b[0;34m\u001b[0m\u001b[0m\n\u001b[1;32m     76\u001b[0m \u001b[0;34m\u001b[0m\u001b[0m\n\u001b[0;32m---> 77\u001b[0;31m \u001b[0mdf\u001b[0m\u001b[0;34m=\u001b[0m\u001b[0mdataset1\u001b[0m\u001b[0;34m.\u001b[0m\u001b[0mdrop\u001b[0m\u001b[0;34m(\u001b[0m\u001b[0;34m[\u001b[0m\u001b[0;34m-\u001b[0m\u001b[0;36m1\u001b[0m\u001b[0;34m,\u001b[0m\u001b[0;36m0\u001b[0m\u001b[0;34m]\u001b[0m\u001b[0;34m)\u001b[0m\u001b[0;34m\u001b[0m\u001b[0;34m\u001b[0m\u001b[0m\n\u001b[0m\u001b[1;32m     78\u001b[0m \u001b[0;31m#print(dataset1.drop([3]))\u001b[0m\u001b[0;34m\u001b[0m\u001b[0;34m\u001b[0m\u001b[0m\n\u001b[1;32m     79\u001b[0m \u001b[0;34m\u001b[0m\u001b[0m\n",
            "\u001b[0;32m/usr/local/lib/python3.11/dist-packages/pandas/core/frame.py\u001b[0m in \u001b[0;36mdrop\u001b[0;34m(self, labels, axis, index, columns, level, inplace, errors)\u001b[0m\n\u001b[1;32m   5579\u001b[0m                 \u001b[0mweight\u001b[0m  \u001b[0;36m1.0\u001b[0m     \u001b[0;36m0.8\u001b[0m\u001b[0;34m\u001b[0m\u001b[0;34m\u001b[0m\u001b[0m\n\u001b[1;32m   5580\u001b[0m         \"\"\"\n\u001b[0;32m-> 5581\u001b[0;31m         return super().drop(\n\u001b[0m\u001b[1;32m   5582\u001b[0m             \u001b[0mlabels\u001b[0m\u001b[0;34m=\u001b[0m\u001b[0mlabels\u001b[0m\u001b[0;34m,\u001b[0m\u001b[0;34m\u001b[0m\u001b[0;34m\u001b[0m\u001b[0m\n\u001b[1;32m   5583\u001b[0m             \u001b[0maxis\u001b[0m\u001b[0;34m=\u001b[0m\u001b[0maxis\u001b[0m\u001b[0;34m,\u001b[0m\u001b[0;34m\u001b[0m\u001b[0;34m\u001b[0m\u001b[0m\n",
            "\u001b[0;32m/usr/local/lib/python3.11/dist-packages/pandas/core/generic.py\u001b[0m in \u001b[0;36mdrop\u001b[0;34m(self, labels, axis, index, columns, level, inplace, errors)\u001b[0m\n\u001b[1;32m   4786\u001b[0m         \u001b[0;32mfor\u001b[0m \u001b[0maxis\u001b[0m\u001b[0;34m,\u001b[0m \u001b[0mlabels\u001b[0m \u001b[0;32min\u001b[0m \u001b[0maxes\u001b[0m\u001b[0;34m.\u001b[0m\u001b[0mitems\u001b[0m\u001b[0;34m(\u001b[0m\u001b[0;34m)\u001b[0m\u001b[0;34m:\u001b[0m\u001b[0;34m\u001b[0m\u001b[0;34m\u001b[0m\u001b[0m\n\u001b[1;32m   4787\u001b[0m             \u001b[0;32mif\u001b[0m \u001b[0mlabels\u001b[0m \u001b[0;32mis\u001b[0m \u001b[0;32mnot\u001b[0m \u001b[0;32mNone\u001b[0m\u001b[0;34m:\u001b[0m\u001b[0;34m\u001b[0m\u001b[0;34m\u001b[0m\u001b[0m\n\u001b[0;32m-> 4788\u001b[0;31m                 \u001b[0mobj\u001b[0m \u001b[0;34m=\u001b[0m \u001b[0mobj\u001b[0m\u001b[0;34m.\u001b[0m\u001b[0m_drop_axis\u001b[0m\u001b[0;34m(\u001b[0m\u001b[0mlabels\u001b[0m\u001b[0;34m,\u001b[0m \u001b[0maxis\u001b[0m\u001b[0;34m,\u001b[0m \u001b[0mlevel\u001b[0m\u001b[0;34m=\u001b[0m\u001b[0mlevel\u001b[0m\u001b[0;34m,\u001b[0m \u001b[0merrors\u001b[0m\u001b[0;34m=\u001b[0m\u001b[0merrors\u001b[0m\u001b[0;34m)\u001b[0m\u001b[0;34m\u001b[0m\u001b[0;34m\u001b[0m\u001b[0m\n\u001b[0m\u001b[1;32m   4789\u001b[0m \u001b[0;34m\u001b[0m\u001b[0m\n\u001b[1;32m   4790\u001b[0m         \u001b[0;32mif\u001b[0m \u001b[0minplace\u001b[0m\u001b[0;34m:\u001b[0m\u001b[0;34m\u001b[0m\u001b[0;34m\u001b[0m\u001b[0m\n",
            "\u001b[0;32m/usr/local/lib/python3.11/dist-packages/pandas/core/generic.py\u001b[0m in \u001b[0;36m_drop_axis\u001b[0;34m(self, labels, axis, level, errors, only_slice)\u001b[0m\n\u001b[1;32m   4828\u001b[0m                 \u001b[0mnew_axis\u001b[0m \u001b[0;34m=\u001b[0m \u001b[0maxis\u001b[0m\u001b[0;34m.\u001b[0m\u001b[0mdrop\u001b[0m\u001b[0;34m(\u001b[0m\u001b[0mlabels\u001b[0m\u001b[0;34m,\u001b[0m \u001b[0mlevel\u001b[0m\u001b[0;34m=\u001b[0m\u001b[0mlevel\u001b[0m\u001b[0;34m,\u001b[0m \u001b[0merrors\u001b[0m\u001b[0;34m=\u001b[0m\u001b[0merrors\u001b[0m\u001b[0;34m)\u001b[0m\u001b[0;34m\u001b[0m\u001b[0;34m\u001b[0m\u001b[0m\n\u001b[1;32m   4829\u001b[0m             \u001b[0;32melse\u001b[0m\u001b[0;34m:\u001b[0m\u001b[0;34m\u001b[0m\u001b[0;34m\u001b[0m\u001b[0m\n\u001b[0;32m-> 4830\u001b[0;31m                 \u001b[0mnew_axis\u001b[0m \u001b[0;34m=\u001b[0m \u001b[0maxis\u001b[0m\u001b[0;34m.\u001b[0m\u001b[0mdrop\u001b[0m\u001b[0;34m(\u001b[0m\u001b[0mlabels\u001b[0m\u001b[0;34m,\u001b[0m \u001b[0merrors\u001b[0m\u001b[0;34m=\u001b[0m\u001b[0merrors\u001b[0m\u001b[0;34m)\u001b[0m\u001b[0;34m\u001b[0m\u001b[0;34m\u001b[0m\u001b[0m\n\u001b[0m\u001b[1;32m   4831\u001b[0m             \u001b[0mindexer\u001b[0m \u001b[0;34m=\u001b[0m \u001b[0maxis\u001b[0m\u001b[0;34m.\u001b[0m\u001b[0mget_indexer\u001b[0m\u001b[0;34m(\u001b[0m\u001b[0mnew_axis\u001b[0m\u001b[0;34m)\u001b[0m\u001b[0;34m\u001b[0m\u001b[0;34m\u001b[0m\u001b[0m\n\u001b[1;32m   4832\u001b[0m \u001b[0;34m\u001b[0m\u001b[0m\n",
            "\u001b[0;32m/usr/local/lib/python3.11/dist-packages/pandas/core/indexes/base.py\u001b[0m in \u001b[0;36mdrop\u001b[0;34m(self, labels, errors)\u001b[0m\n\u001b[1;32m   7068\u001b[0m         \u001b[0;32mif\u001b[0m \u001b[0mmask\u001b[0m\u001b[0;34m.\u001b[0m\u001b[0many\u001b[0m\u001b[0;34m(\u001b[0m\u001b[0;34m)\u001b[0m\u001b[0;34m:\u001b[0m\u001b[0;34m\u001b[0m\u001b[0;34m\u001b[0m\u001b[0m\n\u001b[1;32m   7069\u001b[0m             \u001b[0;32mif\u001b[0m \u001b[0merrors\u001b[0m \u001b[0;34m!=\u001b[0m \u001b[0;34m\"ignore\"\u001b[0m\u001b[0;34m:\u001b[0m\u001b[0;34m\u001b[0m\u001b[0;34m\u001b[0m\u001b[0m\n\u001b[0;32m-> 7070\u001b[0;31m                 \u001b[0;32mraise\u001b[0m \u001b[0mKeyError\u001b[0m\u001b[0;34m(\u001b[0m\u001b[0;34mf\"{labels[mask].tolist()} not found in axis\"\u001b[0m\u001b[0;34m)\u001b[0m\u001b[0;34m\u001b[0m\u001b[0;34m\u001b[0m\u001b[0m\n\u001b[0m\u001b[1;32m   7071\u001b[0m             \u001b[0mindexer\u001b[0m \u001b[0;34m=\u001b[0m \u001b[0mindexer\u001b[0m\u001b[0;34m[\u001b[0m\u001b[0;34m~\u001b[0m\u001b[0mmask\u001b[0m\u001b[0;34m]\u001b[0m\u001b[0;34m\u001b[0m\u001b[0;34m\u001b[0m\u001b[0m\n\u001b[1;32m   7072\u001b[0m         \u001b[0;32mreturn\u001b[0m \u001b[0mself\u001b[0m\u001b[0;34m.\u001b[0m\u001b[0mdelete\u001b[0m\u001b[0;34m(\u001b[0m\u001b[0mindexer\u001b[0m\u001b[0;34m)\u001b[0m\u001b[0;34m\u001b[0m\u001b[0;34m\u001b[0m\u001b[0m\n",
            "\u001b[0;31mKeyError\u001b[0m: '[-1] not found in axis'"
          ]
        }
      ]
    },
    {
      "cell_type": "markdown",
      "source": [
        "# + Sobre Data Frame\n"
      ],
      "metadata": {
        "id": "uDwAdKzacr6-"
      }
    },
    {
      "cell_type": "code",
      "source": [
        "import pandas as pd\n",
        "import numpy as np\n",
        "\n",
        "\n",
        "data = {\n",
        "    'Desconto': ['NAN', '18# OFF', '20# OFF', '22# OFF', '9# OFF', '5# OFF', 'NAN', 'NAN', 'NAN', 'NAN']}\n",
        "\n",
        "df = pd.DataFrame(data)\n",
        "print(df.head())\n",
        "\n",
        "df['Novo_Desconto'] = df['Desconto'].apply(\n",
        "\n",
        "    lambda x: int(x.split('#')[0]) + 10 if isinstance(x, str) and '#' in x else None\n",
        ")\n",
        "\n",
        "print(df.head())\n",
        "\n",
        "\n",
        "\n"
      ],
      "metadata": {
        "colab": {
          "base_uri": "https://localhost:8080/"
        },
        "id": "uk_wa7A1c0MQ",
        "outputId": "c6faafaa-173f-4abe-9ee2-3874c328751a"
      },
      "execution_count": null,
      "outputs": [
        {
          "output_type": "stream",
          "name": "stdout",
          "text": [
            "  Desconto\n",
            "0      NAN\n",
            "1  18# OFF\n",
            "2  20# OFF\n",
            "3  22# OFF\n",
            "4   9# OFF\n",
            "  Desconto  Novo_Desconto\n",
            "0      NAN            NaN\n",
            "1  18# OFF           28.0\n",
            "2  20# OFF           30.0\n",
            "3  22# OFF           32.0\n",
            "4   9# OFF           19.0\n"
          ]
        }
      ]
    },
    {
      "cell_type": "markdown",
      "metadata": {
        "id": "jdymMFaisTo4"
      },
      "source": [
        "#Estrutura de repetição\n",
        "\n",
        "* For\n",
        "* Enumerate\n",
        "* while\n",
        "\n"
      ]
    },
    {
      "cell_type": "code",
      "execution_count": null,
      "metadata": {
        "colab": {
          "base_uri": "https://localhost:8080/"
        },
        "id": "ZPRjhhfXdBp2",
        "outputId": "5b23b6c0-fa73-4fa4-a2f0-8f3c9ae820c3"
      },
      "outputs": [
        {
          "name": "stdout",
          "output_type": "stream",
          "text": [
            "0\n",
            "1\n",
            "2\n",
            "3\n",
            "4\n",
            "5\n",
            "6\n",
            "7\n",
            "8\n",
            "9\n"
          ]
        }
      ],
      "source": [
        "#for\n",
        "for i in range(10):\n",
        "  print(i)"
      ]
    },
    {
      "cell_type": "code",
      "execution_count": null,
      "metadata": {
        "colab": {
          "base_uri": "https://localhost:8080/"
        },
        "id": "15KYmZ4GswH6",
        "outputId": "79e812ba-84be-4934-f3c3-b3adc37acab5"
      },
      "outputs": [
        {
          "name": "stdout",
          "output_type": "stream",
          "text": [
            "não é\n",
            "não é\n",
            "não é\n",
            "é 4 porra\n",
            "não é\n",
            "não é\n",
            "não é\n"
          ]
        }
      ],
      "source": [
        "#for mais condicionante\n",
        "for i in range(1,8):\n",
        "  if i==4 :\n",
        "    print('é', i,'porra')\n",
        "  else:\n",
        "    print('não é')"
      ]
    },
    {
      "cell_type": "code",
      "execution_count": null,
      "metadata": {
        "colab": {
          "base_uri": "https://localhost:8080/"
        },
        "id": "wAKilrS2wysS",
        "outputId": "7041c610-11ed-4108-be34-f94f49a006bc"
      },
      "outputs": [
        {
          "name": "stdout",
          "output_type": "stream",
          "text": [
            "PAGO\n",
            "PAGO\n",
            "CALOTEIRO\n",
            "PAGO\n"
          ]
        }
      ],
      "source": [
        "lista=['pago','pago','nao','pago']\n",
        "for caso in lista:\n",
        "  if caso=='nao':\n",
        "    print('CALOTEIRO')\n",
        "  else:\n",
        "    print('PAGO')"
      ]
    },
    {
      "cell_type": "code",
      "execution_count": null,
      "metadata": {
        "colab": {
          "base_uri": "https://localhost:8080/"
        },
        "id": "dlQiJJjyx-pe",
        "outputId": "e41cf8a9-8148-450a-e435-571530c21c22"
      },
      "outputs": [
        {
          "output_type": "stream",
          "name": "stdout",
          "text": [
            "0 pago\n",
            "1 pago\n",
            "2 nao\n",
            "3 pago\n"
          ]
        }
      ],
      "source": [
        "#enumerate\n",
        "lista=['pago','pago','nao','pago']\n",
        "for i,caso in enumerate(lista):\n",
        "    print(i,caso)"
      ]
    },
    {
      "cell_type": "markdown",
      "metadata": {
        "id": "TXj2XXVPzraP"
      },
      "source": [
        "# Operadores compostos\n"
      ]
    },
    {
      "cell_type": "code",
      "execution_count": null,
      "metadata": {
        "colab": {
          "base_uri": "https://localhost:8080/"
        },
        "id": "W0p58BPAzl2L",
        "outputId": "a75a6b47-2b10-4a1f-a257-23734e714a2b"
      },
      "outputs": [
        {
          "name": "stdout",
          "output_type": "stream",
          "text": [
            "c    =  4\n",
            "c+=1 =  5\n",
            "c-=2 =  3\n",
            "c*=5 =  15\n",
            "c/=2 =  7.5\n",
            "c%=2 =  1.5\n"
          ]
        }
      ],
      "source": [
        "# +=  c+=1 ---> c=c+1\n",
        "# +=  c-=2 ---> c=c-2\n",
        "# +=  c*=5 ---> c=c*5\n",
        "# +=  c/=2 ---> c=c/2\n",
        "# +=  c%=2 ---> c=c%2\n",
        "c=4\n",
        "print('c    = ',c)\n",
        "c+=1\n",
        "print('c+=1 = ',c)\n",
        "c-=2\n",
        "print('c-=2 = ',c)\n",
        "c*=5\n",
        "print('c*=5 = ',c)\n",
        "c/=2\n",
        "print('c/=2 = ',c)\n",
        "c%=2\n",
        "print('c%=2 = ',c)"
      ]
    },
    {
      "cell_type": "code",
      "execution_count": null,
      "metadata": {
        "colab": {
          "base_uri": "https://localhost:8080/"
        },
        "id": "221jDcPa4Zpj",
        "outputId": "f243c3f5-c758-46d5-822b-bf3606feb0f0"
      },
      "outputs": [
        {
          "name": "stdout",
          "output_type": "stream",
          "text": [
            "val+=2 3\n",
            "val*=5 15\n",
            "val+=2 4\n",
            "val*=5 20\n",
            "val+=2 5\n",
            "val*=5 25\n"
          ]
        }
      ],
      "source": [
        "lista=[1,2,3]\n",
        "for val in lista:\n",
        "  val+=2\n",
        "  print('val+=2',val)\n",
        "  val*=5\n",
        "  print('val*=5',val)"
      ]
    },
    {
      "cell_type": "markdown",
      "metadata": {
        "id": "-fFW9Klj5u-q"
      },
      "source": [
        "# While"
      ]
    },
    {
      "cell_type": "code",
      "execution_count": null,
      "metadata": {
        "colab": {
          "base_uri": "https://localhost:8080/"
        },
        "id": "EHn7LOtt5x-R",
        "outputId": "73d51f87-5747-42db-dbb4-5ddd63bfb676"
      },
      "outputs": [
        {
          "name": "stdout",
          "output_type": "stream",
          "text": [
            "1\n",
            "2\n",
            "3\n",
            "4\n",
            "5\n"
          ]
        }
      ],
      "source": [
        "val=0\n",
        "while val<5:\n",
        "  val+=1\n",
        "  print(val)"
      ]
    },
    {
      "cell_type": "code",
      "execution_count": null,
      "metadata": {
        "colab": {
          "base_uri": "https://localhost:8080/"
        },
        "id": "N5bNDg0X7Nz3",
        "outputId": "7f307d7b-6919-415d-f627-76de1c9b873c"
      },
      "outputs": [
        {
          "output_type": "stream",
          "name": "stdout",
          "text": [
            "1 2\n",
            "2 4\n",
            "3 8\n",
            "4 16\n",
            "5 32\n",
            "6 64\n",
            "7 128\n",
            "8 256\n",
            "9 512\n",
            "10 1024\n",
            "11 2048\n",
            "12 4096\n",
            "13 8192\n"
          ]
        }
      ],
      "source": [
        "val=1\n",
        "i=0\n",
        "while val<8000:\n",
        "  i+=1\n",
        "  val*=2\n",
        "  print(i,val)"
      ]
    },
    {
      "cell_type": "code",
      "source": [
        "val=\"c\"\n",
        "while val ==\"c\":\n",
        "  val=input('digite c para novo cálculo :')\n",
        "  print(val)\n",
        "os.system('cls')"
      ],
      "metadata": {
        "id": "bibGd5D1Q0yD"
      },
      "execution_count": null,
      "outputs": []
    },
    {
      "cell_type": "markdown",
      "source": [
        "# + Sobre dicionarios"
      ],
      "metadata": {
        "id": "eXOy1R1ctC9W"
      }
    },
    {
      "cell_type": "markdown",
      "source": [
        "# ZIP"
      ],
      "metadata": {
        "id": "MHcighuGPpNy"
      }
    },
    {
      "cell_type": "code",
      "source": [
        "import numpy as np\n",
        "import pandas as pd\n",
        "\n",
        "a = [1, 2, 3]\n",
        "b = ['a', 'b', 'c']\n",
        "c=[1212,2141,232]\n",
        "\n",
        "res = zip(a, b,c)\n",
        "res=list(res)\n",
        "print(res)\n",
        "\n",
        "\n",
        "x = np.linspace(-3, 3, 7)\n",
        "y1 = x ** 2-5*x+4\n",
        "y2 = x ** 3\n",
        "y3=x-2*x\n",
        "\n",
        "\n",
        "df1 = pd.DataFrame({'seg': x, 'ter': y1, 'qua':y2,'qui':y3})\n",
        "#print(df1.columns[0:4])\n",
        "#a=zip(df1)\n",
        "#print(df1)\n",
        "#print(df1.loc[0,df1.columns[0:5]])\n"
      ],
      "metadata": {
        "colab": {
          "base_uri": "https://localhost:8080/"
        },
        "id": "StMql6S-PsEY",
        "outputId": "ab307ace-1057-4b00-97a9-98e4ea347080"
      },
      "execution_count": null,
      "outputs": [
        {
          "output_type": "stream",
          "name": "stdout",
          "text": [
            "[(1, 'a', 1212), (2, 'b', 2141), (3, 'c', 232)]\n"
          ]
        }
      ]
    },
    {
      "cell_type": "code",
      "source": [
        "A={\"Z1\": [64,84],\n",
        "   \"Z2\": [85,89],\n",
        "   \"Z3\": [90,95],\n",
        "   \"Z4\": [95,99],\n",
        "   \"Z5a\":[100,102],\n",
        "   \"Z5b\": [102,106],\n",
        "   \"Z5c\":[106,110]}\n",
        "\n",
        "x=A.keys()\n",
        "print(x)\n",
        "y=A.values()\n",
        "print(y)"
      ],
      "metadata": {
        "colab": {
          "base_uri": "https://localhost:8080/"
        },
        "id": "43CDLIrvtIAA",
        "outputId": "b5df91e8-35e6-4873-b831-bd98f3ca5e30"
      },
      "execution_count": null,
      "outputs": [
        {
          "output_type": "stream",
          "name": "stdout",
          "text": [
            "dict_keys(['Z1', 'Z2', 'Z3', 'Z4', 'Z5a', 'Z5b', 'Z5c'])\n",
            "dict_values([[64, 84], [85, 89], [90, 95], [95, 99], [100, 102], [102, 106], [106, 110]])\n"
          ]
        }
      ]
    },
    {
      "cell_type": "code",
      "source": [
        "import pandas as pd\n",
        "\n",
        "data = ['221011141200', '221011031200', '221011191200', '221011131600']\n",
        "\n",
        "df = pd.DataFrame(data, columns=['dttime'])\n",
        "df['dttime'] = pd.to_datetime(df['dttime'], format='%y%m%d%H%M%S')\n",
        "print(df)\n",
        "df = df.sort_values(by='dttime')\n",
        "\n",
        "print(df)"
      ],
      "metadata": {
        "colab": {
          "base_uri": "https://localhost:8080/"
        },
        "id": "NzgKWpgjjij6",
        "outputId": "81fb1028-47bd-4cb2-c24f-80f8f79958f1"
      },
      "execution_count": null,
      "outputs": [
        {
          "output_type": "stream",
          "name": "stdout",
          "text": [
            "               dttime\n",
            "0 2022-10-11 14:12:00\n",
            "1 2022-10-11 03:12:00\n",
            "2 2022-10-11 19:12:00\n",
            "3 2022-10-11 13:16:00\n",
            "               dttime\n",
            "1 2022-10-11 03:12:00\n",
            "3 2022-10-11 13:16:00\n",
            "0 2022-10-11 14:12:00\n",
            "2 2022-10-11 19:12:00\n"
          ]
        }
      ]
    },
    {
      "cell_type": "markdown",
      "source": [
        "# Definição de funções - def\n",
        "\n",
        "\n",
        "\n"
      ],
      "metadata": {
        "id": "YZ99w70KnTWK"
      }
    },
    {
      "cell_type": "code",
      "source": [
        "def soma(a,b,c):\n",
        "  return a+b+c\n",
        "#print(soma(2,5,7))\n",
        "\n",
        "def soma2(*a):\n",
        "  print(a,type(a))\n",
        "  return a\n",
        "#quando usamos *arg, o total de varias é indefinida. no entando a entrada é interpretada\n",
        "#como uma tupla com dimensoes dos numeros de entrada\n",
        "\n",
        "\n",
        "#q=soma2(2,3.1415,'casa')\n",
        "#print(q[2])\n",
        "\n",
        "def somas(*n):\n",
        "  total=0\n",
        "  for i in n:\n",
        "    total+=i\n",
        "  return total\n",
        "\n",
        "def somap(a,b,**kwargs):\n",
        "  c=a+b\n",
        "  opt = kwargs.get('opt')\n",
        "\n",
        "  if opt==None:\n",
        "    print('dados gerados')\n",
        "    pass\n",
        "  elif(opt.lower())=='print':\n",
        "    print('soma é : ',c )\n",
        "  else:\n",
        "    print('O que é opt ',opt+' ?' )\n",
        "\n",
        "\n",
        "\n",
        "#  if opt[0].lower()=='print':\n",
        "#    print('soma é : ', c)\n",
        "\n",
        "\n",
        "\n",
        "  return c\n",
        "\n",
        "c=somap(2,6)\n",
        "\n",
        "\n"
      ],
      "metadata": {
        "colab": {
          "base_uri": "https://localhost:8080/"
        },
        "id": "cPgJrZt9nevg",
        "outputId": "23f9605f-a76f-4100-f3ef-e1169e9d53da"
      },
      "execution_count": null,
      "outputs": [
        {
          "output_type": "stream",
          "name": "stdout",
          "text": [
            "dados gerados\n"
          ]
        }
      ]
    },
    {
      "cell_type": "code",
      "source": [
        "def f(i,j,k):\n",
        "    a = i\n",
        "    b = 2*j\n",
        "    c = k\n",
        "    return {\"t\" : a, \"d\" : b, \"p\" : c}\n",
        "import numpy as np\n",
        "\n",
        "a=2\n",
        "b=np.array([1,2,3,4])\n",
        "c=2\n",
        "out=f(a,b,c)\n",
        "print(type(out['d']))\n",
        "\n"
      ],
      "metadata": {
        "colab": {
          "base_uri": "https://localhost:8080/"
        },
        "id": "XZCQcQPObBA4",
        "outputId": "651a93c3-278b-477d-88c3-dfc15ee6b946"
      },
      "execution_count": null,
      "outputs": [
        {
          "output_type": "stream",
          "name": "stdout",
          "text": [
            "<class 'numpy.ndarray'>\n"
          ]
        }
      ]
    },
    {
      "cell_type": "markdown",
      "source": [
        "# Definição de funções - def (**kwargs)\n"
      ],
      "metadata": {
        "id": "kxfp0yxVVUx7"
      }
    },
    {
      "cell_type": "code",
      "source": [
        "def soma2(**kwargs):\n",
        "  #print(kwargs,type(kwargs))\n",
        "  return kwargs\n",
        "\n",
        "A=soma2(f='casa',g=2,h=121212)\n",
        "#print(A['h'])\n",
        "\n",
        "def soma3(arg,**kwargs):\n",
        "    print(arg,kwargs)\n",
        "    return arg,kwargs\n",
        "\n",
        "soma3(2)\n",
        "\n"
      ],
      "metadata": {
        "colab": {
          "base_uri": "https://localhost:8080/"
        },
        "id": "isfU9cGHVkF9",
        "outputId": "64609137-5416-4569-910a-403f1890137d"
      },
      "execution_count": null,
      "outputs": [
        {
          "output_type": "stream",
          "name": "stdout",
          "text": [
            "2 {}\n"
          ]
        },
        {
          "output_type": "execute_result",
          "data": {
            "text/plain": [
              "(2, {})"
            ]
          },
          "metadata": {},
          "execution_count": 78
        }
      ]
    },
    {
      "cell_type": "markdown",
      "source": [],
      "metadata": {
        "id": "5EZev2f8VJ9Y"
      }
    },
    {
      "cell_type": "markdown",
      "source": [
        "# Alguns plot e outras funções"
      ],
      "metadata": {
        "id": "nZiuIGlvU7--"
      }
    },
    {
      "cell_type": "code",
      "source": [
        "import matplotlib.pyplot as plt\n",
        "import numpy as np\n",
        "import pandas as pd\n",
        "\n",
        "# create data\n",
        "df = pd.DataFrame([\n",
        "  ['semana1', 8, 8, 8, 8],\n",
        "  ['semana2', 8, 10, 8, 15],\n",
        "  ['semana3', 10, 10, 8, 15],\n",
        "  ['semana4', 10, 10, 8, 15],\n",
        "  ['semana5', 10, 18, 11, 19],\n",
        "  ['semana6', 12, 15, 18, 22],\n",
        "  ['semana7', 10, 10, 10, 8,5],\n",
        "  ['semana8', 10, 10, 10, 12,4]],\n",
        "\n",
        "                  columns=['Team', 'z1', 'z2', 'z3', 'z4','z5'])\n",
        "# view data\n",
        "print(df)\n",
        "\n",
        "# plot data in stack manner of bar type\n",
        "df.plot(x='Team', kind='bar', stacked=True,\n",
        "        title='Stacked Bar Graph by dataframe')\n",
        "plt.show()"
      ],
      "metadata": {
        "colab": {
          "base_uri": "https://localhost:8080/",
          "height": 678
        },
        "id": "a5AM_Wd1TU0t",
        "outputId": "d5111dd9-4a09-4eed-9bcd-3b017d7336a2"
      },
      "execution_count": null,
      "outputs": [
        {
          "output_type": "stream",
          "name": "stdout",
          "text": [
            "      Team  z1  z2  z3  z4    z5\n",
            "0  semana1   8   8   8   8   NaN\n",
            "1  semana2   8  10   8  15   NaN\n",
            "2  semana3  10  10   8  15   NaN\n",
            "3  semana4  10  10   8  15   NaN\n",
            "4  semana5  10  18  11  19   NaN\n",
            "5  semana6  12  15  18  22   NaN\n",
            "6  semana7  10  10  10   8  34.0\n",
            "7  semana8  10  10  10  12   4.0\n"
          ]
        },
        {
          "output_type": "display_data",
          "data": {
            "text/plain": [
              "<Figure size 640x480 with 1 Axes>"
            ],
            "image/png": "[encoded data removed]"
          },
          "metadata": {}
        }
      ]
    },
    {
      "cell_type": "code",
      "source": [
        "import matplotlib.pyplot as plt\n",
        "import numpy as np\n",
        "\n",
        "x=np.linspace(40,180,29);\n",
        "x=np.linspace(40,180,15)\n",
        "y=11/70*x+7.7\n",
        "print('VT   ','High', ' low')\n",
        "for i in range(15):\n",
        "  #print(int(x[i]), '        ' , round(y[i]),'        ', round(x[i]-y[i]))\n",
        "  print('%03d' % int(x[i]), ' ' , '%01d' % round(y[i]),'  ', '%03d' % round(x[i]-y[i]))"
      ],
      "metadata": {
        "colab": {
          "base_uri": "https://localhost:8080/"
        },
        "id": "cbeSbyuw0z4w",
        "outputId": "1be8356d-911c-4932-c67b-ec012987593e"
      },
      "execution_count": null,
      "outputs": [
        {
          "output_type": "stream",
          "name": "stdout",
          "text": [
            "VT    High  low\n",
            "040   14    026\n",
            "050   16    034\n",
            "060   17    043\n",
            "070   19    051\n",
            "080   20    060\n",
            "090   22    068\n",
            "100   23    077\n",
            "110   25    085\n",
            "120   27    093\n",
            "130   28    102\n",
            "140   30    110\n",
            "150   31    119\n",
            "160   33    127\n",
            "170   34    136\n",
            "180   36    144\n"
          ]
        }
      ]
    },
    {
      "cell_type": "code",
      "source": [
        "import numpy as np\n",
        "\n",
        "x=np.array([1,2,3,4,5,6,2,6,8,3,3,4,3,4,2,5,4,5,3,5,2,5,3,5,3,5,3,5,4,3,0])\n",
        "id1=np.where(x==4)   # achar indice\n",
        "id2=np.where(x==8)\n",
        "#id3=np.where(x==5)\n",
        "id=np.append(id1,id2)\n",
        "x=np.delete(x,id)   #deletar baseado nos indices\n",
        "#x=np.delete(x,x>=5) #deletar com uma condição\n",
        "#x[x==3]=30          #substituir\n",
        "\n",
        "#y=np.diff(x,30)\n",
        "#print(len(x),len(y))\n",
        "print(x)"
      ],
      "metadata": {
        "colab": {
          "base_uri": "https://localhost:8080/"
        },
        "id": "QZ5E9RH52EJO",
        "outputId": "2a05ae6a-32e3-4512-ae21-eed91d0f1091"
      },
      "execution_count": null,
      "outputs": [
        {
          "output_type": "stream",
          "name": "stdout",
          "text": [
            "[1 2 3 5 6 2 6 3 3 3 2 5 5 3 5 2 5 3 5 3 5 3 5 3 0]\n"
          ]
        }
      ]
    },
    {
      "cell_type": "code",
      "source": [],
      "metadata": {
        "id": "6ONga1p8Uz95"
      },
      "execution_count": null,
      "outputs": []
    },
    {
      "cell_type": "markdown",
      "source": [
        "# Plot com multicolor lines"
      ],
      "metadata": {
        "id": "frHVcF6MBMeB"
      }
    },
    {
      "cell_type": "code",
      "source": [
        "import matplotlib.pyplot as plt\n",
        "import numpy as np\n",
        "\n",
        "t = np.arange(0.0, 12.0, 0.001)\n",
        "s = -1.9*np.cos(0.25*np.pi*t)*np.sin(1 * np.pi * t)+5\n",
        "\n",
        "\n",
        "\n",
        "z1 = np.ma.masked_where(s < 5.75, s) #z1\n",
        "z2 = np.ma.masked_where((s > 5.75) | (s < 5.0), s) #z2\n",
        "z3 = np.ma.masked_where((s > 5.0) | (s < 4.7), s)  #z3\n",
        "z4 = np.ma.masked_where((s > 4.7) | (s < 4.4), s) #z4\n",
        "z5a = np.ma.masked_where((s > 4.4) | (s < 4.2), s) #z5\n",
        "z5b = np.ma.masked_where((s > 4.2) | (s < 4.0), s) #z5\n",
        "z5c = np.ma.masked_where((s > 4.0) | (s < 3.5), s) #z5\n",
        "z6 = np.ma.masked_where((s > 3.5), s) #z6\n",
        "\n",
        "\n",
        "\n",
        "#z2 = np.ma.masked_where(s > lower, s) #z2\n",
        "#z3 = np.ma.masked_where((s < lower) | (s > upper), s) #z3\n",
        "\n",
        "fig, ax = plt.subplots()\n",
        "ax.plot(t,z6,'y',t,z5c,t,z5b,t,z5a,t,z4,t,z3,'g',t,z2,'b',t, z1,'r')\n",
        "plt.show()"
      ],
      "metadata": {
        "id": "X3ROGFdretM3",
        "colab": {
          "base_uri": "https://localhost:8080/",
          "height": 430
        },
        "outputId": "86436bb4-e220-4d2b-d87a-b26c85aa7978"
      },
      "execution_count": null,
      "outputs": [
        {
          "output_type": "display_data",
          "data": {
            "text/plain": [
              "<Figure size 640x480 with 1 Axes>"
            ],
            "image/png": "[encoded data removed]"
          },
          "metadata": {}
        }
      ]
    },
    {
      "cell_type": "code",
      "source": [
        "import matplotlib.pyplot as plt\n",
        "import numpy as np\n",
        "\n",
        "x = np.arange(0, 5, 0.01)\n",
        "y = 1*x\n",
        "\n",
        "\n",
        "\n",
        "z1 = np.ma.masked_where(y < 5, y) #z1\n",
        "z2 = np.ma.masked_where((y > 5) | (y < 4.5), y) #z2\n",
        "z3 = np.ma.masked_where((y > 4.5) | (y < 4.0), y)  #z3\n",
        "z4 = np.ma.masked_where((y > 4.0) | (y < 3.5), y) #z4\n",
        "z5a = np.ma.masked_where((y > 3.5) | (y < 2.5), y) #z5\n",
        "z5b = np.ma.masked_where((y > 2.5) | (y < 2.0), y) #z5\n",
        "z5c = np.ma.masked_where((y > 2.0) | (y < 1.5), y) #z5\n",
        "z6 = np.ma.masked_where((y > 1.5), y) #z6\n",
        "\n",
        "\n",
        "\n",
        "\n",
        "\n",
        "fig, ax = plt.subplots()\n",
        "ax.plot(x,z1,'b',x,z2,x,z3,x,z4,x,z5a,x,z5b,x,z5c,x,z6,'r')\n",
        "plt.legend(['z1','z2','z3','z4'])\n",
        "plt.show()"
      ],
      "metadata": {
        "colab": {
          "base_uri": "https://localhost:8080/",
          "height": 430
        },
        "id": "Ekq9Y4FcBUOl",
        "outputId": "8a7f9a2a-7754-4502-c446-444ff43a66ac"
      },
      "execution_count": null,
      "outputs": [
        {
          "output_type": "display_data",
          "data": {
            "text/plain": [
              "<Figure size 640x480 with 1 Axes>"
            ],
            "image/png": "[encoded data removed]"
          },
          "metadata": {}
        }
      ]
    },
    {
      "cell_type": "code",
      "source": [
        "import matplotlib.pyplot as plt\n",
        "import numpy as np\n",
        "\n",
        "x = np.arange(0, 5, 0.01)\n",
        "y = 4*np.sin(2*x)+4\n",
        "\n",
        "id1=np.where((y>=0) & (y<2.0))\n",
        "id2=np.where((y>=2) & (y<4.0))\n",
        "id3=np.where((y>=4) & (y<5.0))\n",
        "id4=np.where((y>=5) & (y<6.0))\n",
        "id5=np.where((y>=6) & (y<10.0))\n",
        "\n",
        "\n",
        "print(len(id1[0]))\n",
        "print(len(id2[0]))\n",
        "print(len(id3[0]))\n",
        "print(len(id4[0]))\n",
        "print(len(id5[0]))\n",
        "\n",
        "\n",
        "\n",
        "fig,ax = plt.subplots()\n",
        "\n",
        "ax.plot(x[id1[0]],y[id1[0]],'.')\n",
        "ax.plot(x[id2[0]],y[id2[0]],'.')\n",
        "ax.plot(x[id3[0]],y[id3[0]],'.')\n",
        "ax.plot(x[id4[0]],y[id4[0]],'.')\n",
        "ax.plot(x[id5[0]],y[id5[0]],'.')\n",
        "plt.show()"
      ],
      "metadata": {
        "colab": {
          "base_uri": "https://localhost:8080/",
          "height": 517
        },
        "id": "H9h8UxF6QqhV",
        "outputId": "1068c7e6-9c02-409d-f6cb-facf521ddadf"
      },
      "execution_count": null,
      "outputs": [
        {
          "output_type": "stream",
          "name": "stdout",
          "text": [
            "106\n",
            "79\n",
            "51\n",
            "55\n",
            "209\n"
          ]
        },
        {
          "output_type": "display_data",
          "data": {
            "text/plain": [
              "<Figure size 640x480 with 1 Axes>"
            ],
            "image/png": "[encoded data removed]"
          },
          "metadata": {}
        }
      ]
    },
    {
      "cell_type": "code",
      "source": [
        "import matplotlib.pyplot as plt\n",
        "import numpy as np\n",
        "\n",
        "fig, (ax1, ax2) = plt.subplots(1, 2, figsize=(7, 3))\n",
        "\n",
        "np.random.seed(19680801)\n",
        "s = 2.9 * np.convolve(np.random.randn(500), np.ones(30) / 30, mode='valid')\n",
        "ax1.plot(s)\n",
        "ax1.axhspan(-1, 1, alpha=0.1)\n",
        "ax1.axhspan(1,1.5,color='red', alpha=0.1)\n",
        "ax1.set(ylim=(-1.5, 1.5), title=\"axhspan\")\n",
        "\n",
        "\n",
        "mu = 8\n",
        "sigma = 2\n",
        "x = np.linspace(0, 16, 401)\n",
        "y = np.exp(-((x-mu)**2)/(2*sigma**2))\n",
        "ax2.axvspan(mu-2*sigma, mu-sigma, color='0.95')\n",
        "ax2.axvspan(mu-sigma, mu+sigma, color='0.9')\n",
        "ax2.axvspan(mu+sigma, mu+2*sigma, color='0.95')\n",
        "ax2.axvline(mu, color='darkgrey', linestyle='--')\n",
        "ax2.plot(x, y)\n",
        "ax2.set(title=\"axvspan\")\n",
        "\n",
        "plt.show()"
      ],
      "metadata": {
        "colab": {
          "base_uri": "https://localhost:8080/",
          "height": 314
        },
        "id": "IbYtYIL_yi3l",
        "outputId": "0f2f7be6-d413-406c-a6ad-6f1112bf039a"
      },
      "execution_count": null,
      "outputs": [
        {
          "output_type": "display_data",
          "data": {
            "text/plain": [
              "<Figure size 700x300 with 2 Axes>"
            ],
            "image/png": "[encoded data removed]"
          },
          "metadata": {}
        }
      ]
    }
  ],
  "metadata": {
    "colab": {
      "provenance": [],
      "toc_visible": true,
      "authorship_tag": "ABX9TyOkjGOX1hmshLa7Bqsf7TnP",
      "include_colab_link": true
    },
    "kernelspec": {
      "display_name": "Python 3",
      "name": "python3"
    },
    "language_info": {
      "name": "python"
    }
  },
  "nbformat": 4,
  "nbformat_minor": 0
}